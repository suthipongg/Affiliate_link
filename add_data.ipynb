{
 "cells": [
  {
   "cell_type": "markdown",
   "metadata": {},
   "source": [
    "# test"
   ]
  },
  {
   "cell_type": "code",
   "execution_count": 1,
   "metadata": {},
   "outputs": [],
   "source": [
    "import requests, re\n",
    "from bs4 import BeautifulSoup"
   ]
  },
  {
   "cell_type": "code",
   "execution_count": 26,
   "metadata": {},
   "outputs": [],
   "source": [
    "def get_redirect_link(html_content):\n",
    "    soup = BeautifulSoup(html_content, 'html.parser')\n",
    "    \n",
    "    # Check for URL in the meta refresh tag\n",
    "    meta_refresh = soup.find('meta', attrs={'http-equiv': 'refresh'})\n",
    "    if meta_refresh:\n",
    "        content = meta_refresh.get('content')\n",
    "        if content:\n",
    "            match = re.search(r'url=(.*)', content, re.IGNORECASE)\n",
    "            if match:\n",
    "                return match.group(1)\n",
    "    \n",
    "    # Check for URL in the JavaScript\n",
    "    scripts = soup.find_all('script')\n",
    "    for script in scripts:\n",
    "        if script.string:\n",
    "            match = re.search(r'window\\.location\\.href\\s*=\\s*\"(http.*?)\"', script.string)\n",
    "            if match:\n",
    "                return match.group(1)\n",
    "            match = re.search(r'window\\.location\\.href\\s*=\\s*\\'(http.*?)\\'', script.string)\n",
    "            if match:\n",
    "                return match.group(1)\n",
    "\n",
    "    return None"
   ]
  },
  {
   "cell_type": "code",
   "execution_count": 27,
   "metadata": {},
   "outputs": [],
   "source": [
    "def check_affiliate_link(link):\n",
    "    try:\n",
    "        # Make a GET request to the URL with a browser user agent\n",
    "        response = requests.get(link, allow_redirects=True)\n",
    "        \n",
    "        # Check the final URL after redirections\n",
    "        final_url = response.url\n",
    "        if final_url == link:\n",
    "            print(\"redirect again:\", link)\n",
    "            re_link = get_redirect_link(response.text)\n",
    "            if re_link:\n",
    "                final_url = re_link\n",
    "                response = requests.get(final_url, allow_redirects=True)\n",
    "\n",
    "        # Check the HTTP status code\n",
    "        if response.status_code == 200:\n",
    "            return f\"Link is valid. ({final_url})\"\n",
    "        elif response.status_code == 404:\n",
    "            return f\"Link has expired or is invalid. ({final_url})\"\n",
    "        else:\n",
    "            return f\"Received unexpected status code: {response.status_code}, {final_url}\"\n",
    "    \n",
    "    except requests.exceptions.RequestException as e:\n",
    "        # Handle exceptions like connection errors\n",
    "        return f\"An error occurred: {e}\""
   ]
  },
  {
   "cell_type": "code",
   "execution_count": 10,
   "metadata": {},
   "outputs": [],
   "source": [
    "\n",
    "lazada_new = [\n",
    "    (22689, \"https://s.lazada.co.th/l.Yh5P\"),\n",
    "    (27048, \"https://s.lazada.co.th/s.kJnKJ\"),\n",
    "    (15377, \"https://s.lazada.co.th/l.ZCua\"),\n",
    "    (30825, \"https://s.lazada.co.th/l.bYVa\"),\n",
    "    (45385, \"https://s.lazada.co.th/l.04PX\"),\n",
    "    (44674, \"https://s.lazada.co.th/l.b9p0\"),\n",
    "    (44820, \"https://s.lazada.co.th/l.bj1Q\"),\n",
    "    (44823, \"https://s.lazada.co.th/s.jmwgO\"),\n",
    "    (44818, \"https://s.lazada.co.th/l.b2da\"),\n",
    "    (48421, \"https://s.lazada.co.th/l.YXga\")\n",
    "]\n",
    "\n",
    "shopee_new = [\n",
    "    (44674, \"https://shope.ee/5fDxSpduIE\"),\n",
    "    (44820, \"https://shope.ee/3fSt4jHwda\"),\n",
    "    (44823, \"https://shp.ee/53rabvi\"),\n",
    "    (44818, \"https://shope.ee/3pljcrQvlw\"),\n",
    "    (34538, \"https://shope.ee/5paXSAs1Hl\")\n",
    "]\n",
    "\n",
    "lazada_old = [\n",
    "    (43891, \"https://s.lazada.co.th/l.ZgdB\"),\n",
    "    (39842, \"https://s.lazada.co.th/l.BeI\"),\n",
    "    (44673, \"https://c.lazada.co.th/t/c.bVMhNa?url=https%3A%2F%2Fwww.lazada.co.th%2Fproducts%2F650-x2-sunsilk-shampoo-damage-restore-orange-650-ml-x2-shampoo-i113342953-s116842899.html&sub_aff_id=product44673sunsilkshampoodamagerestore\"),\n",
    "    (44826, \"https://c.lazada.co.th/t/c.bVqheE?url=https%3A%2F%2Fwww.lazada.co.th%2Fproducts%2F450-425-sunsilk-shampoo-perfect-straight-purple-450-ml-conditioner-425-ml-shampoo-i8776913-s11005468.html&sub_aff_id=product44823sunsilkshampooperfectstraight\"),\n",
    "    (44673, \"https://c.lazada.co.th/t/c.bVMhNa?url=https%3A%2F%2Fwww.lazada.co.th%2Fproducts%2F650-x2-sunsilk-shampoo-damage-restore-orange-650-ml-x2-shampoo-i113342953-s116842899.html&sub_aff_id=product44673sunsilkshampoodamagerestore\"),\n",
    "    (44821, \"https://c.lazada.co.th/t/c.bVqh1i?url=https%3A%2F%2Fwww.lazada.co.th%2Fproducts%2Fsunsilk-treatment-healthier-and-long-200-ml-2-bottles-i120187600-s125273652.html&sub_aff_id=product44821sunsilktreatmenthealthierandlong\"),\n",
    "    (44828, \"https://c.lazada.co.th/t/c.bVq5eX?url=https%3A%2F%2Fwww.lazada.co.th%2Fproducts%2Fsunsilk-shampoo-and-conditioner-soft-smooth-yellow-450ml-450-425-i256061701-s394876089.html&sub_aff_id=product44827sunsilkshampoosoftandsmooth\")\n",
    "]\n",
    "\n",
    "shopee_old = [\n",
    "    (43891, \"https://shope.ee/1fdNqvNTf7\"),\n",
    "    (44673, \"https://shp.ee/5p67a9p\"),\n",
    "    (44826, \"https://shp.ee/53rabvi\"),\n",
    "    (44673, \"https://shp.ee/5p67a9p\"),\n",
    "    (42715, \"https://shp.ee/vj7qa2r\")\n",
    "]\n",
    "\n",
    "shopee_valid = [\n",
    "    (15376, \"https://shope.ee/VV6pl1eBl\"),\n",
    "    (39842, \"https://shp.ee/783j2ej\"),\n",
    "    (50831, \"https://shope.ee/1qEoWjupuh\"),\n",
    "]"
   ]
  },
  {
   "cell_type": "code",
   "execution_count": 19,
   "metadata": {},
   "outputs": [
    {
     "name": "stdout",
     "output_type": "stream",
     "text": [
      "43891 Link has expired or is invalid. (https://www.lazada.co.th/products/330-x2-vaseline-healthy-bright-gluta-hya-serum-burst-uv-lotion-flawless-glow-330-ml-x2-lotion-whitening-lotion-body-moisturizer-body-i2147510556-s7173526416.html?trafficFrom=17449020_303586&laz_trackid=2:mm_150211077_51502923_2010552940:clkgk2cp71i0s9tctcmgq4&mkttid=clkgk2cp71i0s9tctcmgq4) (https://s.lazada.co.th/l.ZgdB)\n",
      "==================================================\n",
      "39842 Link has expired or is invalid. (https://www.lazada.co.th/products/300-biore-3-fusion-acne-and-pore-care-300ml-i466310532-s853186528.html?trafficFrom=17449020_303586&laz_trackid=2:mm_150211077_51502923_2010552940:clkgk2fof1i0s9tdkagp1p&mkttid=clkgk2fof1i0s9tdkagp1p) (https://s.lazada.co.th/l.BeI)\n",
      "==================================================\n",
      "44673 Link has expired or is invalid. (https://www.lazada.co.th/products/650-x2-sunsilk-shampoo-damage-restore-orange-650-ml-x2-shampoo-i113342953-s116842899.html?trafficFrom=17449020_303586&laz_trackid=2:mm_150211077_51502923_2010552940:clkgg5qso1i0s9te4fm4ke&mkttid=clkgg5qso1i0s9te4fm4ke) (https://c.lazada.co.th/t/c.bVMhNa?url=https%3A%2F%2Fwww.lazada.co.th%2Fproducts%2F650-x2-sunsilk-shampoo-damage-restore-orange-650-ml-x2-shampoo-i113342953-s116842899.html&sub_aff_id=product44673sunsilkshampoodamagerestore)\n",
      "==================================================\n",
      "44826 Link has expired or is invalid. (https://www.lazada.co.th/products/450-425-sunsilk-shampoo-perfect-straight-purple-450-ml-conditioner-425-ml-shampoo-i8776913-s11005468.html?trafficFrom=17449020_303586&laz_trackid=2:mm_150211077_51502923_2010552940:clkgg5tff1i0s9teiptv32&mkttid=clkgg5tff1i0s9teiptv32) (https://c.lazada.co.th/t/c.bVqheE?url=https%3A%2F%2Fwww.lazada.co.th%2Fproducts%2F450-425-sunsilk-shampoo-perfect-straight-purple-450-ml-conditioner-425-ml-shampoo-i8776913-s11005468.html&sub_aff_id=product44823sunsilkshampooperfectstraight)\n",
      "==================================================\n",
      "44673 Link has expired or is invalid. (https://www.lazada.co.th/products/650-x2-sunsilk-shampoo-damage-restore-orange-650-ml-x2-shampoo-i113342953-s116842899.html?trafficFrom=17449020_303586&laz_trackid=2:mm_150211077_51502923_2010552940:clkgg5qso1i0s9tf2gm4rl&mkttid=clkgg5qso1i0s9tf2gm4rl) (https://c.lazada.co.th/t/c.bVMhNa?url=https%3A%2F%2Fwww.lazada.co.th%2Fproducts%2F650-x2-sunsilk-shampoo-damage-restore-orange-650-ml-x2-shampoo-i113342953-s116842899.html&sub_aff_id=product44673sunsilkshampoodamagerestore)\n",
      "==================================================\n",
      "44821 Link has expired or is invalid. (https://www.lazada.co.th/products/sunsilk-treatment-healthier-and-long-200-ml-2-bottles-i120187600-s125273652.html?trafficFrom=17449020_21419790_303586&laz_trackid=2:mm_150211077_51502923_2010552940:clkgjnpii1i0s9tfhmlgsk&mkttid=clkgjnpii1i0s9tfhmlgsk) (https://c.lazada.co.th/t/c.bVqh1i?url=https%3A%2F%2Fwww.lazada.co.th%2Fproducts%2Fsunsilk-treatment-healthier-and-long-200-ml-2-bottles-i120187600-s125273652.html&sub_aff_id=product44821sunsilktreatmenthealthierandlong)\n",
      "==================================================\n",
      "44828 Link has expired or is invalid. (https://www.lazada.co.th/products/sunsilk-shampoo-and-conditioner-soft-smooth-yellow-450ml-450-425-i256061701-s394876089.html?trafficFrom=17449020_303586&laz_trackid=2:mm_150211077_51502923_2010552940:clkgk2etb1i0s9tg0slr08&mkttid=clkgk2etb1i0s9tg0slr08) (https://c.lazada.co.th/t/c.bVq5eX?url=https%3A%2F%2Fwww.lazada.co.th%2Fproducts%2Fsunsilk-shampoo-and-conditioner-soft-smooth-yellow-450ml-450-425-i256061701-s394876089.html&sub_aff_id=product44827sunsilkshampoosoftandsmooth)\n",
      "==================================================\n"
     ]
    }
   ],
   "source": [
    "for pid, laz_link in lazada_old:\n",
    "    print(pid, check_affiliate_link(laz_link), f'({laz_link})')\n",
    "    print('='*50)"
   ]
  },
  {
   "cell_type": "code",
   "execution_count": 18,
   "metadata": {},
   "outputs": [
    {
     "name": "stdout",
     "output_type": "stream",
     "text": [
      "22689 Link has expired or is invalid. (https://www.lazada.co.th/products/sparkle-coffee-tea-drinkers-whitening-toothpaste-50g-i4186019934-s16465982158.html?trafficFrom=17449020_303586&laz_trackid=2:mm_150211077_51502923_2010552940:clkgk29cd1i0s9sunulg06&mkttid=clkgk29cd1i0s9sunulg06)\n",
      "==================================================\n",
      "redirect again: https://s.lazada.co.th/s.kJnKJ\n",
      "meta\n",
      "27048 Link has expired or is invalid. (https://www.lazada.co.th/products/7-lululun-pure-balance-face-mask-i257876290-s397507002.html?dsource=share&laz_share_info=646599212_100_100_100036863295_646599213_null&laz_token=9556e96cb1bd266662b4fefffb0e428e&exlaz=e_iqeJxmuQOjPGip8qo24MCSTeQCjDld4siVQ4kY1ODqrCXvTKdNAtBb55%2BgIiSkmNnXkPoNuoMIIpR8IEI%2FLi1U0sC6tUOx2TD3WnASIas1Y%3D&sub_aff_id=social_share&sub_id2=646599212&sub_id3=100036863295&sub_id6=CPI_EXLAZ)\n",
      "==================================================\n",
      "15377 Link has expired or is invalid. (https://www.lazada.co.th/products/44-biore-makeup-remover-cleansing-cotton-box44pcs-i227173525-s347360232.html?trafficFrom=17449020_303586&laz_trackid=2:mm_150211077_51502923_2010552940:clkgk20e11i0s9t1pam1kg&mkttid=clkgk20e11i0s9t1pam1kg)\n",
      "==================================================\n",
      "30825 Link has expired or is invalid. (https://www.lazada.co.th/products/48-nivea-lip-watermelon-shine-48-g-i394808220-s766218502.html?trafficFrom=17449020_21419790_303586&laz_trackid=2:mm_150211077_51502923_2010552940:clkgl3p2b1i0s9t2gplaml&mkttid=clkgl3p2b1i0s9t2gplaml)\n",
      "==================================================\n",
      "45385 Link has expired or is invalid. (https://www.lazada.co.th/products/630-10-1-nivea-i3942427544-s15209345984.html?trafficFrom=17449020_303586&laz_trackid=2:mm_150211077_51502923_2010552940:clkgl3p2b1i0s9t36olar3&mkttid=clkgl3p2b1i0s9t36olar3)\n",
      "==================================================\n",
      "44674 Link has expired or is invalid. (https://www.lazada.co.th/products/425-x2-sunsilk-conditioner-damage-restore-orange-425-ml-x2-i1781304718-s5206146730.html?trafficFrom=17449020_303586&laz_trackid=2:mm_150211077_51502923_2010552940:clkgg5r3p1i0s9t3usm1ki&mkttid=clkgg5r3p1i0s9t3usm1ki)\n",
      "==================================================\n",
      "44820 Link has expired or is invalid. (https://www.lazada.co.th/products/425-x2-sunsilk-conditioner-healthier-and-long-green-425-ml-x2-i1781370005-s5206156736.html?trafficFrom=17449020_303586&laz_trackid=2:mm_150211077_51502923_2010552940:clkgk29j91i0s9t4mflgdq&mkttid=clkgk29j91i0s9t4mflgdq)\n",
      "==================================================\n",
      "redirect again: https://s.lazada.co.th/s.jmwgO\n",
      "meta\n",
      "44823 Link has expired or is invalid. (https://www.lazada.co.th/products/425-425-sunsilk-perfect-straight-purple-shampoo-425-ml-conditioner-425-ml-i8776913-s11005468.html?dsource=share&laz_share_info=506161456_100_100_100036863295_506161456_null&laz_token=abcf127badfbd9210d2afbc7f933390a&exlaz=e_iqeJxmuQOjPGip8qo24MCSTeQCjDld4siVQ4kY1ODqrCXvTKdNAtBb55%2BgIiSkmNnXkPoNuoMIIpR8IEI%2FLi1U0sC6tUOx2TD3WnASIas1Y%3D&sub_aff_id=social_share&sub_id2=506161456&sub_id3=100036863295&sub_id6=CPI_EXLAZ)\n",
      "==================================================\n",
      "44818 Link has expired or is invalid. (https://www.lazada.co.th/products/450-sunsilk-shampoo-healthier-long-green-450-ml-shampoo-i262113146-s403540743.html?trafficFrom=17449020_303586&laz_trackid=2:mm_150211077_51502923_2010552940:clkgl3ti71i0s9t5udm7ba&mkttid=clkgl3ti71i0s9t5udm7ba)\n",
      "==================================================\n",
      "48421 Link has expired or is invalid. (https://www.lazada.co.th/products/400-sunsilk-activ-infusion-treament-mask-400-ml-i3813818356-s14524023558.html?trafficFrom=17449020_303586&laz_trackid=2:mm_150211077_51502923_2010552940:clkgk29cd1i0s9t6m1lhom&mkttid=clkgk29cd1i0s9t6m1lhom)\n",
      "==================================================\n"
     ]
    }
   ],
   "source": [
    "for pid, laz_link in lazada_new:\n",
    "    print(pid, check_affiliate_link(laz_link))\n",
    "    print('='*50)"
   ]
  },
  {
   "cell_type": "markdown",
   "metadata": {},
   "source": [
    "# migrate"
   ]
  },
  {
   "cell_type": "code",
   "execution_count": 1,
   "metadata": {},
   "outputs": [],
   "source": [
    "import pandas as pd\n",
    "import requests, re\n",
    "from bs4 import BeautifulSoup\n",
    "import urllib.parse\n",
    "from tqdm import tqdm\n",
    "tqdm.pandas()"
   ]
  },
  {
   "cell_type": "code",
   "execution_count": 2,
   "metadata": {},
   "outputs": [],
   "source": [
    "def get_redirect_link(html_content):\n",
    "    soup = BeautifulSoup(html_content, 'html.parser')\n",
    "    \n",
    "    # Check for URL in the meta refresh tag\n",
    "    meta_refresh = soup.find('meta', attrs={'http-equiv': 'refresh'})\n",
    "    if meta_refresh:\n",
    "        content = meta_refresh.get('content')\n",
    "        if content:\n",
    "            match = re.search(r'url=(.*)', content, re.IGNORECASE)\n",
    "            if match:\n",
    "                return match.group(1)\n",
    "    \n",
    "    # Check for URL in the JavaScript\n",
    "    scripts = soup.find_all('script')\n",
    "    for script in scripts:\n",
    "        if script.string:\n",
    "            match = re.search(r'window\\.location\\.href\\s*=\\s*\"(http.*?)\"', script.string)\n",
    "            if match:\n",
    "                return match.group(1)\n",
    "            match = re.search(r'window\\.location\\.href\\s*=\\s*\\'(http.*?)\\'', script.string)\n",
    "            if match:\n",
    "                return match.group(1)\n",
    "\n",
    "    return None\n",
    "\n",
    "def check_status_code(status_code):\n",
    "    if status_code >= 200 and status_code < 300:\n",
    "        return False\n",
    "    elif status_code >= 400:\n",
    "        return True\n",
    "    else:\n",
    "        return f\"Received unexpected status code: {status_code}\"\n",
    "\n",
    "def is_lazada_affiliate_expired(link):\n",
    "    try:\n",
    "        response = requests.get(link, allow_redirects=True, timeout=5)\n",
    "        \n",
    "        # Check the final URL after redirections\n",
    "        final_url = response.url\n",
    "        if 'lazada' not in final_url and 'lazada' not in link and final_url == link:\n",
    "            re_link = get_redirect_link(response.text)\n",
    "            if not re_link:\n",
    "                return f'Link({link}) is not a Lazada affiliate link.'\n",
    "            decoded_url = urllib.parse.unquote(re_link)\n",
    "            h_link = decoded_url.find('https://')\n",
    "            re_link = decoded_url[h_link:]\n",
    "            if 'lazada' not in str(re_link) and 'lazada' not in link:\n",
    "                return f'Link({link}) is not a Lazada affiliate link.'\n",
    "            if re_link:\n",
    "                response = requests.get(re_link, allow_redirects=True, timeout=5)\n",
    "            status = check_status_code(response.status_code)\n",
    "            return status\n",
    "        else:\n",
    "            decoded_url = urllib.parse.unquote(final_url)\n",
    "            h_link = decoded_url.find('https://')\n",
    "            final_url = decoded_url[h_link:]\n",
    "            if 'lazada' not in final_url:\n",
    "                return f'Link({link}) is not a Lazada affiliate link.'\n",
    "        # Make a GET request to the URL with a browser user agent\n",
    "        status = check_status_code(response.status_code)\n",
    "        if status:\n",
    "            return status\n",
    "        return False\n",
    "    \n",
    "    except requests.exceptions.RequestException as e:\n",
    "        # Handle exceptions like connection errors\n",
    "        return f\"{link}: An error occurred: {e}\"\n",
    "    \n",
    "\n",
    "def status_affiliate_link(link, shop='lazada'):\n",
    "    if shop == 'lazada':\n",
    "        is_expired = is_lazada_affiliate_expired(link)\n",
    "    else:\n",
    "        return False, f'shop ({shop}) not in list'\n",
    "    if isinstance(is_expired, str):\n",
    "        return False, is_expired\n",
    "    elif is_expired:\n",
    "        return False, \"Link has expired or is invalid.\"\n",
    "    else:\n",
    "        return True, \"Active\""
   ]
  },
  {
   "cell_type": "code",
   "execution_count": 8,
   "metadata": {},
   "outputs": [],
   "source": [
    "df = pd.read_csv('/home/music/Desktop/chat/chat-project/dataset/affiliate_all_shop.csv')"
   ]
  },
  {
   "cell_type": "code",
   "execution_count": 7,
   "metadata": {},
   "outputs": [],
   "source": [
    "def insert_data(data, route):\n",
    "    headers = {\n",
    "        'accept': 'application/json',\n",
    "        'Authorization': 'Bearer dev',\n",
    "        'Content-Type': 'application/json'\n",
    "    }\n",
    "    response = requests.post(f'http://0.0.0.0:8099/{route}/insert', json=data, headers=headers)\n",
    "    \n",
    "    if response.status_code != 201:\n",
    "        raise Exception(f\"Failed to insert data {response.status_code}: {response.text}\")"
   ]
  },
  {
   "cell_type": "code",
   "execution_count": 8,
   "metadata": {},
   "outputs": [],
   "source": [
    "data = {\n",
    "    \"product_id\": 0,\n",
    "    \"product_name\": \"sk-ii\",\n",
    "    \"modify_date\": \"2021-10-01 00:00:00\",\n",
    "    \"active\": True,\n",
    "}"
   ]
  },
  {
   "cell_type": "code",
   "execution_count": 15,
   "metadata": {},
   "outputs": [
    {
     "name": "stderr",
     "output_type": "stream",
     "text": [
      "100%|██████████| 32763/32763 [15:00<00:00, 36.39it/s]  \n"
     ]
    }
   ],
   "source": [
    "for i in tqdm(range(len(df))):\n",
    "    data['product_id'] = int(df.loc[i, 'ID'])\n",
    "    data['product_name'] = df.loc[i, 'NAME']\n",
    "    data['modify_date'] = df.loc[i, 'TIMESTAMP_X']\n",
    "    data['active'] = df.loc[i, 'ACTIVE'] == 'Y'\n",
    "    insert_data(data, 'product')"
   ]
  },
  {
   "cell_type": "code",
   "execution_count": 16,
   "metadata": {},
   "outputs": [],
   "source": [
    "data = {\n",
    "    \"product_id\": 0,\n",
    "    \"shop\": \"lazada\",\n",
    "    \"link\": \"https://s.lazada.co.th/s.jmwgO\",\n",
    "    'description': ''\n",
    "}"
   ]
  },
  {
   "cell_type": "code",
   "execution_count": 12,
   "metadata": {},
   "outputs": [],
   "source": [
    "def find_link(html):\n",
    "    shop = {'lazada':None, 'shopee':None}\n",
    "    try:\n",
    "        soup = BeautifulSoup(html, 'lxml')\n",
    "    except:\n",
    "        raise Exception(\"Error\")\n",
    "    a_tags = soup.find_all('a')\n",
    "    for tag in a_tags:\n",
    "        img_tag = tag.find('img')\n",
    "        if img_tag and 'src' in img_tag.attrs:\n",
    "            src = img_tag['src']\n",
    "            if 'lazada' in src:\n",
    "                shop['lazada'] = tag['href']\n",
    "            if 'shopee' in src:\n",
    "                shop['shopee'] = tag['href']\n",
    "    return shop"
   ]
  },
  {
   "cell_type": "code",
   "execution_count": 13,
   "metadata": {},
   "outputs": [
    {
     "name": "stderr",
     "output_type": "stream",
     "text": [
      "  0%|          | 0/32769 [00:00<?, ?it/s]/tmp/ipykernel_68819/4251540247.py:4: MarkupResemblesLocatorWarning: The input looks more like a filename than markup. You may want to open this file and pass the filehandle into Beautiful Soup.\n",
      "  soup = BeautifulSoup(html, 'lxml')\n",
      "100%|██████████| 32769/32769 [00:29<00:00, 1099.64it/s]\n"
     ]
    }
   ],
   "source": [
    "df['DETAIL_TEXT'] = df['DETAIL_TEXT'].fillna('')\n",
    "df[['lazada_old', 'shopee_old']] = df['DETAIL_TEXT'].progress_apply(find_link).progress_apply(pd.Series)"
   ]
  },
  {
   "cell_type": "code",
   "execution_count": 23,
   "metadata": {},
   "outputs": [
    {
     "name": "stderr",
     "output_type": "stream",
     "text": [
      "100%|██████████| 32763/32763 [26:39<00:00, 20.49it/s]   \n"
     ]
    }
   ],
   "source": [
    "for i in tqdm(range(len(df))):\n",
    "    shop = 'lazada'\n",
    "    if isinstance(df.loc[i, 'lazada'], str):\n",
    "        data['product_id'] = int(df.loc[i, 'ID'])\n",
    "        data['shop'] = shop\n",
    "        data['link'] = df.loc[i, shop] \n",
    "        data['description'] = 'New method'\n",
    "        insert_data(data, 'affiliate_link')\n",
    "    if isinstance(df.loc[i, 'lazada_old'], str):\n",
    "        data['product_id'] = int(df.loc[i, 'ID'])\n",
    "        data['shop'] = shop\n",
    "        data['link'] = df.loc[i, 'lazada_old']\n",
    "        data['description'] = 'Old method'\n",
    "        insert_data(data, 'affiliate_link')"
   ]
  },
  {
   "cell_type": "code",
   "execution_count": 14,
   "metadata": {},
   "outputs": [
    {
     "data": {
      "text/html": [
       "<div>\n",
       "<style scoped>\n",
       "    .dataframe tbody tr th:only-of-type {\n",
       "        vertical-align: middle;\n",
       "    }\n",
       "\n",
       "    .dataframe tbody tr th {\n",
       "        vertical-align: top;\n",
       "    }\n",
       "\n",
       "    .dataframe thead th {\n",
       "        text-align: right;\n",
       "    }\n",
       "</style>\n",
       "<table border=\"1\" class=\"dataframe\">\n",
       "  <thead>\n",
       "    <tr style=\"text-align: right;\">\n",
       "      <th></th>\n",
       "      <th>ID</th>\n",
       "      <th>NAME</th>\n",
       "      <th>ACTIVE</th>\n",
       "      <th>DETAIL_TEXT</th>\n",
       "      <th>TIMESTAMP_X</th>\n",
       "      <th>lazada</th>\n",
       "      <th>shopee</th>\n",
       "      <th>lazada_old</th>\n",
       "      <th>shopee_old</th>\n",
       "    </tr>\n",
       "  </thead>\n",
       "  <tbody>\n",
       "    <tr>\n",
       "      <th>27815</th>\n",
       "      <td>47462</td>\n",
       "      <td>Healthy Bright UV Extra Brightening Gluta Glow...</td>\n",
       "      <td>N</td>\n",
       "      <td>&lt;h2&gt;&lt;font color=\"#ee105a\"&gt;โลชั่นบำรุงผิว Vasel...</td>\n",
       "      <td>2022-08-02 16:41:36</td>\n",
       "      <td>https://s.lazada.co.th/l.0SbD</td>\n",
       "      <td>https://shope.ee/fnN8Dv4qG</td>\n",
       "      <td>None</td>\n",
       "      <td>None</td>\n",
       "    </tr>\n",
       "    <tr>\n",
       "      <th>27966</th>\n",
       "      <td>27744</td>\n",
       "      <td>Nutritive Solutions Volume Nourishment Shampoo</td>\n",
       "      <td>Y</td>\n",
       "      <td>\\r\\n&lt;h2&gt;&lt;b&gt;&lt;font color=\"#0072bc\"&gt;แชมพู &lt;/font...</td>\n",
       "      <td>2022-08-19 13:40:50</td>\n",
       "      <td>https://s.lazada.co.th/l.0pwQ</td>\n",
       "      <td>NaN</td>\n",
       "      <td>None</td>\n",
       "      <td>None</td>\n",
       "    </tr>\n",
       "    <tr>\n",
       "      <th>27968</th>\n",
       "      <td>27745</td>\n",
       "      <td>Volume Nourishment Conditioner</td>\n",
       "      <td>Y</td>\n",
       "      <td>\\r\\n&lt;h2&gt;&lt;font color=\"#0000ff\"&gt;คอนดิชันเนอร์ &lt;b...</td>\n",
       "      <td>2022-08-19 15:37:42</td>\n",
       "      <td>https://s.lazada.co.th/l.0pwQ</td>\n",
       "      <td>https://shope.ee/LAxwxN02C</td>\n",
       "      <td>None</td>\n",
       "      <td>None</td>\n",
       "    </tr>\n",
       "  </tbody>\n",
       "</table>\n",
       "</div>"
      ],
      "text/plain": [
       "          ID                                               NAME ACTIVE  \\\n",
       "27815  47462  Healthy Bright UV Extra Brightening Gluta Glow...      N   \n",
       "27966  27744     Nutritive Solutions Volume Nourishment Shampoo      Y   \n",
       "27968  27745                     Volume Nourishment Conditioner      Y   \n",
       "\n",
       "                                             DETAIL_TEXT          TIMESTAMP_X  \\\n",
       "27815  <h2><font color=\"#ee105a\">โลชั่นบำรุงผิว Vasel...  2022-08-02 16:41:36   \n",
       "27966   \\r\\n<h2><b><font color=\"#0072bc\">แชมพู </font...  2022-08-19 13:40:50   \n",
       "27968  \\r\\n<h2><font color=\"#0000ff\">คอนดิชันเนอร์ <b...  2022-08-19 15:37:42   \n",
       "\n",
       "                              lazada                      shopee lazada_old  \\\n",
       "27815  https://s.lazada.co.th/l.0SbD  https://shope.ee/fnN8Dv4qG       None   \n",
       "27966  https://s.lazada.co.th/l.0pwQ                         NaN       None   \n",
       "27968  https://s.lazada.co.th/l.0pwQ  https://shope.ee/LAxwxN02C       None   \n",
       "\n",
       "      shopee_old  \n",
       "27815       None  \n",
       "27966       None  \n",
       "27968       None  "
      ]
     },
     "execution_count": 14,
     "metadata": {},
     "output_type": "execute_result"
    }
   ],
   "source": [
    "test = df.copy()\n",
    "test.dropna(subset=['lazada'], inplace=True)\n",
    "test[test['lazada'].duplicated(keep=False)].head(3)"
   ]
  },
  {
   "cell_type": "code",
   "execution_count": 18,
   "metadata": {},
   "outputs": [
    {
     "data": {
      "text/plain": [
       "array([35877, 42340, 42339, 42337, 42311, 42306, 42244, 42572, 44080])"
      ]
     },
     "execution_count": 18,
     "metadata": {},
     "output_type": "execute_result"
    }
   ],
   "source": [
    "df[((~(df['lazada'].isna())) & (~(df['lazada_old'].isna())))]['ID'].values"
   ]
  },
  {
   "cell_type": "code",
   "execution_count": 20,
   "metadata": {},
   "outputs": [
    {
     "data": {
      "text/plain": [
       "array([35877, 45515, 42565, 44080])"
      ]
     },
     "execution_count": 20,
     "metadata": {},
     "output_type": "execute_result"
    }
   ],
   "source": [
    "df[((~(df['shopee'].isna())) & (~(df['shopee_old'].isna())))]['ID'].values"
   ]
  }
 ],
 "metadata": {
  "kernelspec": {
   "display_name": "venv",
   "language": "python",
   "name": "python3"
  },
  "language_info": {
   "codemirror_mode": {
    "name": "ipython",
    "version": 3
   },
   "file_extension": ".py",
   "mimetype": "text/x-python",
   "name": "python",
   "nbconvert_exporter": "python",
   "pygments_lexer": "ipython3",
   "version": "3.11.9"
  }
 },
 "nbformat": 4,
 "nbformat_minor": 2
}
